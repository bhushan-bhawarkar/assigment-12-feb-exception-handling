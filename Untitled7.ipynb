{
  "nbformat": 4,
  "nbformat_minor": 0,
  "metadata": {
    "colab": {
      "provenance": []
    },
    "kernelspec": {
      "name": "python3",
      "display_name": "Python 3"
    },
    "language_info": {
      "name": "python"
    }
  },
  "cells": [
    {
      "cell_type": "markdown",
      "source": [
        "Q1. What is\n",
        "an Exception in pthon? Write the differen between Exceptions and \n",
        "Syntax error?\n"
      ],
      "metadata": {
        "id": "YWgPzqAypD2A"
      }
    },
    {
      "cell_type": "markdown",
      "source": [
        "An Exception in Python is an event that occurs during the execution of a program that disrupts the normal flow of the program's instructions. When an exception is raised, the program stops executing and enters an error-handling state.\n",
        "\n",
        "Syntax errors, on the other hand, are errors that occur when the code violates the syntax rules of the programming language. These errors occur during the parsing of the code, before the program begins to execute.\n",
        "\n",
        "The main difference between Exceptions and Syntax errors is that Exceptions occur during the execution of the code, while Syntax errors occur before the code is executed. Additionally, while Syntax errors are always caused by errors in the code's syntax, Exceptions can be caused by a variety of factors, such as invalid input, a missing file, or network connectivity issues.\n",
        "\n"
      ],
      "metadata": {
        "id": "4DC40yXytUOr"
      }
    },
    {
      "cell_type": "markdown",
      "source": [
        "Q2. What\n",
        "hppens when\n",
        "an exception is not handled ? Explain with\n",
        "example?"
      ],
      "metadata": {
        "id": "oCIsUe-Xtw9s"
      }
    },
    {
      "cell_type": "markdown",
      "source": [
        "When an exception is not handled in a Python program, it will result in the program terminating and an error message being displayed. This error message will include information about the type of exception that was raised and the line of code where the exception occurred.\n",
        "\n",
        "For example, consider the following code:"
      ],
      "metadata": {
        "id": "Bx7jgrlGuRAm"
      }
    },
    {
      "cell_type": "code",
      "source": [
        "x = 3\n",
        "y = 0\n",
        "x/y"
      ],
      "metadata": {
        "colab": {
          "base_uri": "https://localhost:8080/",
          "height": 201
        },
        "id": "1V-nBWiWu9vN",
        "outputId": "b4a22f5a-d29e-4036-8534-37446cde69ec"
      },
      "execution_count": 2,
      "outputs": [
        {
          "output_type": "error",
          "ename": "ZeroDivisionError",
          "evalue": "ignored",
          "traceback": [
            "\u001b[0;31m---------------------------------------------------------------------------\u001b[0m",
            "\u001b[0;31mZeroDivisionError\u001b[0m                         Traceback (most recent call last)",
            "\u001b[0;32m<ipython-input-2-2e733b615283>\u001b[0m in \u001b[0;36m<module>\u001b[0;34m\u001b[0m\n\u001b[1;32m      1\u001b[0m \u001b[0mx\u001b[0m \u001b[0;34m=\u001b[0m \u001b[0;36m3\u001b[0m\u001b[0;34m\u001b[0m\u001b[0;34m\u001b[0m\u001b[0m\n\u001b[1;32m      2\u001b[0m \u001b[0my\u001b[0m \u001b[0;34m=\u001b[0m \u001b[0;36m0\u001b[0m\u001b[0;34m\u001b[0m\u001b[0;34m\u001b[0m\u001b[0m\n\u001b[0;32m----> 3\u001b[0;31m \u001b[0mx\u001b[0m\u001b[0;34m/\u001b[0m\u001b[0my\u001b[0m\u001b[0;34m\u001b[0m\u001b[0;34m\u001b[0m\u001b[0m\n\u001b[0m",
            "\u001b[0;31mZeroDivisionError\u001b[0m: division by zero"
          ]
        }
      ]
    },
    {
      "cell_type": "markdown",
      "source": [
        "As you can see, the error message indicates that a ZeroDivisionError occurred on line 3 of the file example.py. If we had included an exception handler to catch this error, we could have taken some appropriate action to handle the situation, such as displaying a user-friendly error message or logging the error for further analysis. However, since we did not handle the exception, the program terminated and the error message was displayed to the user.\n",
        "\n",
        "\n",
        "\n",
        "\n"
      ],
      "metadata": {
        "id": "CUUZs8BovOlU"
      }
    },
    {
      "cell_type": "markdown",
      "source": [
        "Q3. Which Python statements are used to ,\n",
        "catch and \n",
        "handle exceptions? Explain with\n",
        "an example"
      ],
      "metadata": {
        "id": "nddyV0pYvQcP"
      }
    },
    {
      "cell_type": "markdown",
      "source": [
        "To catch and handle exceptions in Python, we use the try and except statements. The try statement is used to define a block of code in which exceptions may occur, and the except statement is used to define a block of code that should be executed if an exception occurs.\n",
        "\n",
        "Here's an example of how to use try and except statements to catch and handle a ZeroDivisionError:"
      ],
      "metadata": {
        "id": "BTa1gY0UwWWw"
      }
    },
    {
      "cell_type": "code",
      "source": [
        "try:\n",
        "  a = 7\n",
        "  b = 0\n",
        "  a/b\n",
        "except Exception as e:\n",
        "  print(e)  \n",
        "else:\n",
        "  print(\"this is it\")  \n",
        "\n"
      ],
      "metadata": {
        "colab": {
          "base_uri": "https://localhost:8080/"
        },
        "id": "8RuKj6yywcYY",
        "outputId": "0dc7966a-c1a6-4bcf-a2c8-21b6f0d72ca7"
      },
      "execution_count": 3,
      "outputs": [
        {
          "output_type": "stream",
          "name": "stdout",
          "text": [
            "division by zero\n"
          ]
        }
      ]
    },
    {
      "cell_type": "markdown",
      "source": [
        "In this example, we try to divide x by y, which will not raise an exception. Therefore, the program will skip the except block and execute the code in the else block, which will print the result of the division."
      ],
      "metadata": {
        "id": "qlgOqcU_xFDX"
      }
    },
    {
      "cell_type": "markdown",
      "source": [
        "Q4. Explain with an example:\n",
        "a. try and els else\n",
        "\n",
        "b. finally\n",
        "\n",
        "c. raise"
      ],
      "metadata": {
        "id": "WHsLNH1_xGe1"
      }
    },
    {
      "cell_type": "markdown",
      "source": [
        "a. The try and else statements are used together to handle exceptions that may occur in a block of code, and to specify what should happen if no exceptions occur. Here's an example:"
      ],
      "metadata": {
        "id": "Jfg9KGJ1yQRj"
      }
    },
    {
      "cell_type": "code",
      "source": [
        "#example when error take place in this program\n",
        "try:\n",
        "  a = 9\n",
        "  b = 0\n",
        "  a/b\n",
        "except ZeroDivisionError as e :\n",
        "  print(e)\n",
        "else:\n",
        "  print(a/b)\n",
        "\n"
      ],
      "metadata": {
        "colab": {
          "base_uri": "https://localhost:8080/"
        },
        "id": "JvWncC0MyYLJ",
        "outputId": "3d6a2172-68c9-449b-a1f7-c53fbe9cb157"
      },
      "execution_count": 6,
      "outputs": [
        {
          "output_type": "stream",
          "name": "stdout",
          "text": [
            "division by zero\n"
          ]
        }
      ]
    },
    {
      "cell_type": "code",
      "source": [
        "#when error dose not accure \n",
        "try:\n",
        "  a = 9\n",
        "  b = 3\n",
        "  a/b\n",
        "except ZeroDivisionError as e :\n",
        "  print(e)\n",
        "else:\n",
        "  print(a/b)"
      ],
      "metadata": {
        "colab": {
          "base_uri": "https://localhost:8080/"
        },
        "id": "Qi3SXxEeyqQu",
        "outputId": "65f6fb3d-f2fd-4093-a07a-b7db4b0c5756"
      },
      "execution_count": 7,
      "outputs": [
        {
          "output_type": "stream",
          "name": "stdout",
          "text": [
            "3.0\n"
          ]
        }
      ]
    },
    {
      "cell_type": "markdown",
      "source": [
        "b. The finally statement is used to define a block of code that should be executed regardless of whether an exception occurs or not. Here's an example:"
      ],
      "metadata": {
        "id": "_GcBK6mZzycP"
      }
    },
    {
      "cell_type": "code",
      "source": [
        "try:\n",
        "  a = 9\n",
        "  b = 3\n",
        "  a/b\n",
        "except ZeroDivisionError as e :\n",
        "  print(e)\n",
        "else:\n",
        "  print(a/b)\n",
        "finally:\n",
        "  print(\"This is divistion of two no \")  "
      ],
      "metadata": {
        "colab": {
          "base_uri": "https://localhost:8080/"
        },
        "id": "O6PVIVg9z0Sk",
        "outputId": "05775f32-908f-497b-fd8e-0d7762571050"
      },
      "execution_count": 8,
      "outputs": [
        {
          "output_type": "stream",
          "name": "stdout",
          "text": [
            "3.0\n",
            "This is divistion of two no \n"
          ]
        }
      ]
    },
    {
      "cell_type": "markdown",
      "source": [
        "c. The raise statement is used to manually raise an exception. We can use it to indicate that an error has occurred in our code, even if there is no built-in exception that corresponds to the error. Here's an example:"
      ],
      "metadata": {
        "id": "SQJU1i8i35QF"
      }
    },
    {
      "cell_type": "code",
      "source": [
        "def raise_sts(a,b):\n",
        "  if b == 0:\n",
        "    raise ZeroDivisionError(\"this is my error\")\n",
        "  print(a/b)  \n",
        "try:\n",
        "  raise_sts(4,6)\n",
        "except  ZeroDivisionError as e:\n",
        "  print(e) \n",
        "  \n",
        "\n",
        "\n",
        "\n"
      ],
      "metadata": {
        "colab": {
          "base_uri": "https://localhost:8080/"
        },
        "id": "Hqulu2iI36qd",
        "outputId": "e21c2497-51ce-4684-bb45-4a4174dee3c7"
      },
      "execution_count": 25,
      "outputs": [
        {
          "output_type": "stream",
          "name": "stdout",
          "text": [
            "0.6666666666666666\n"
          ]
        }
      ]
    },
    {
      "cell_type": "code",
      "source": [
        "def divide(x, y):\n",
        "    if y == 0:\n",
        "        raise ValueError(\"Cannot divide by zero\")\n",
        "    return x / y\n",
        "\n",
        "try:\n",
        "    result = divide(10, 0)\n",
        "except ValueError as e:\n",
        "    print(e)\n"
      ],
      "metadata": {
        "colab": {
          "base_uri": "https://localhost:8080/"
        },
        "id": "p_gx_79q7Ry5",
        "outputId": "f4bf5dc4-b655-4650-b1cf-9619dcf34127"
      },
      "execution_count": 22,
      "outputs": [
        {
          "output_type": "stream",
          "name": "stdout",
          "text": [
            "Cannot divide by zero\n"
          ]
        }
      ]
    },
    {
      "cell_type": "markdown",
      "source": [
        "Q6. Create a custom exception class. Use this class to handle an exception."
      ],
      "metadata": {
        "id": "OM9pt3Cg6RCD"
      }
    },
    {
      "cell_type": "code",
      "source": [
        "\n",
        "class age_validation(Exception):\n",
        "  def __init__(self,msg):\n",
        "    self.msg = msg\n",
        "\n",
        "def age_vald(age):\n",
        "  if age < 0:\n",
        "    raise age_validation(\"this is -VE no \")\n",
        "  elif age >100:\n",
        "    raise age_validation(\"to much age\")\n",
        "  else:\n",
        "    print(\"valid date\") \n",
        "\n",
        "try:\n",
        "  age = int(input(\"enter a age : \"))\n",
        "  age_vald(age)\n",
        "except age_validation as e:\n",
        "  print(e)\n"
      ],
      "metadata": {
        "colab": {
          "base_uri": "https://localhost:8080/"
        },
        "id": "zEjdNw4X6g3N",
        "outputId": "a1297d85-6136-44ff-daad-ac43869e9aad"
      },
      "execution_count": 20,
      "outputs": [
        {
          "output_type": "stream",
          "name": "stdout",
          "text": [
            "enter a age : 77\n",
            "valid date\n"
          ]
        }
      ]
    },
    {
      "cell_type": "code",
      "source": [],
      "metadata": {
        "id": "k5tFRNhm6iFl"
      },
      "execution_count": null,
      "outputs": []
    }
  ]
}